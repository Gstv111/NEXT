{
 "cells": [
  {
   "cell_type": "code",
   "execution_count": null,
   "metadata": {},
   "outputs": [],
   "source": [
    "\n",
    "##ACESSOS\n",
    "\n",
    "##Pitch no YouTube\n",
    "##https://www.youtube.com/watch?v=JE2fcL9ABdM\n",
    "\n",
    "##DashBoard Agro Credit Connect\n",
    "##https://app.powerbi.com/view?r=eyJrIjoiM2Y1YzMxMzQtNjU0ZC00ODRmLWE0NDgtMGI5OGJhYTFkNjFhIiwidCI6IjExZGJiZmUyLTg5YjgtNDU0OS1iZTEwLWNlYzM2NGU1OTU1MSIsImMiOjR9\n",
    "\n",
    "##Metadados\n",
    "##https://1drv.ms/x/s!AoZ-6_5SXxJBhdgxqC6HF_XJD15cmg?e=06HQBR\n",
    "\n",
    "##Notebook Análises Produção\n",
    "##https://colab.research.google.com/drive/1QjUzuGEmL18Sy6Pn4b8Y1Uh3M9Hxqf4F?usp=sharing\n",
    "\n",
    "##Visualização em PDF:\n",
    "##https://1drv.ms/b/s!AoZ-6_5SXxJBheE8vNf03vCo-I2PRw?e=jPkhBK \n",
    "\n",
    "##Notebook Análises de tendência de Juros\n",
    "##https://colab.research.google.com/drive/1uNOrFov_gtlbCh9sDxOOgPc8xXoLVCJK?usp=sharing#scrollTo=-1d_QHlkJi-Y\n",
    "\n",
    "##Visualização em PDF:\n",
    "##https://1drv.ms/b/s!AoZ-6_5SXxJBheFBzLZWiHcWbrpCIg?e=Kg1hs0 \n"
   ]
  },
  {
   "cell_type": "code",
   "execution_count": null,
   "metadata": {},
   "outputs": [],
   "source": []
  },
  {
   "cell_type": "code",
   "execution_count": null,
   "metadata": {},
   "outputs": [],
   "source": []
  }
 ],
 "metadata": {
  "language_info": {
   "name": "python"
  },
  "orig_nbformat": 4
 },
 "nbformat": 4,
 "nbformat_minor": 2
}
